{
 "cells": [
  {
   "cell_type": "code",
   "execution_count": 10,
   "metadata": {},
   "outputs": [
    {
     "name": "stdout",
     "output_type": "stream",
     "text": [
      "i 0, item (0, 0)\n",
      "i 1, item (0, 1)\n",
      "i 2, item (0, 2)\n",
      "i 3, item (0, 3)\n",
      "i 4, item (0, 4)\n",
      "i 5, item (0, 5)\n",
      "i 6, item (0, 6)\n",
      "i 7, item (0, 7)\n",
      "i 8, item (0, 8)\n",
      "i 9, item (1, 0)\n",
      "i 10, item (1, 1)\n",
      "i 11, item (1, 2)\n",
      "i 12, item (1, 3)\n",
      "i 13, item (1, 4)\n",
      "i 14, item (1, 5)\n",
      "i 15, item (1, 6)\n",
      "i 16, item (1, 7)\n",
      "i 17, item (1, 8)\n",
      "i 18, item (2, 0)\n",
      "i 19, item (2, 1)\n",
      "i 20, item (2, 2)\n",
      "i 21, item (2, 3)\n",
      "i 22, item (2, 4)\n",
      "i 23, item (2, 5)\n",
      "i 24, item (2, 6)\n",
      "i 25, item (2, 7)\n",
      "i 26, item (2, 8)\n",
      "i 27, item (3, 0)\n",
      "i 28, item (3, 1)\n",
      "i 29, item (3, 2)\n",
      "i 30, item (3, 3)\n",
      "i 31, item (3, 4)\n",
      "i 32, item (3, 5)\n",
      "i 33, item (3, 6)\n",
      "i 34, item (3, 7)\n",
      "i 35, item (3, 8)\n",
      "i 36, item (4, 0)\n",
      "i 37, item (4, 1)\n",
      "i 38, item (4, 2)\n",
      "i 39, item (4, 3)\n",
      "i 40, item (4, 4)\n",
      "i 41, item (4, 5)\n",
      "i 42, item (4, 6)\n",
      "i 43, item (4, 7)\n",
      "i 44, item (4, 8)\n",
      "i 45, item (5, 0)\n",
      "i 46, item (5, 1)\n",
      "i 47, item (5, 2)\n",
      "i 48, item (5, 3)\n",
      "i 49, item (5, 4)\n",
      "i 50, item (5, 5)\n",
      "i 51, item (5, 6)\n",
      "i 52, item (5, 7)\n",
      "i 53, item (5, 8)\n",
      "i 54, item (6, 0)\n",
      "i 55, item (6, 1)\n",
      "i 56, item (6, 2)\n",
      "i 57, item (6, 3)\n",
      "i 58, item (6, 4)\n",
      "i 59, item (6, 5)\n",
      "i 60, item (6, 6)\n",
      "i 61, item (6, 7)\n",
      "i 62, item (6, 8)\n",
      "i 63, item (7, 0)\n",
      "i 64, item (7, 1)\n",
      "i 65, item (7, 2)\n",
      "i 66, item (7, 3)\n",
      "i 67, item (7, 4)\n",
      "i 68, item (7, 5)\n",
      "i 69, item (7, 6)\n",
      "i 70, item (7, 7)\n",
      "i 71, item (7, 8)\n",
      "i 72, item (8, 0)\n",
      "i 73, item (8, 1)\n",
      "i 74, item (8, 2)\n",
      "i 75, item (8, 3)\n",
      "i 76, item (8, 4)\n",
      "i 77, item (8, 5)\n",
      "i 78, item (8, 6)\n",
      "i 79, item (8, 7)\n",
      "i 80, item (8, 8)\n"
     ]
    }
   ],
   "source": [
    "from itertools import product\n",
    "abf = {0,1,2,3,4,5,6,7,8}\n",
    "id = product(abf,repeat=2)\n",
    "id_dict = dict.fromkeys(id,0)\n",
    "id_dict.update({(0,2):2})\n",
    "str_v = [f'{c}' for c in id_dict.values()]\n",
    "print(str_v)\n",
    "for k,v in id_dict.items():\n",
    "    print(f'product key {k} -> {v}')"
   ]
  }
 ],
 "metadata": {
  "kernelspec": {
   "display_name": ".venv",
   "language": "python",
   "name": "python3"
  },
  "language_info": {
   "codemirror_mode": {
    "name": "ipython",
    "version": 3
   },
   "file_extension": ".py",
   "mimetype": "text/x-python",
   "name": "python",
   "nbconvert_exporter": "python",
   "pygments_lexer": "ipython3",
   "version": "3.11.0"
  },
  "orig_nbformat": 4,
  "vscode": {
   "interpreter": {
    "hash": "f3216790be77859256746cf76803efe2ec7bc8331a191ff67660ad18c7034f6f"
   }
  }
 },
 "nbformat": 4,
 "nbformat_minor": 2
}
